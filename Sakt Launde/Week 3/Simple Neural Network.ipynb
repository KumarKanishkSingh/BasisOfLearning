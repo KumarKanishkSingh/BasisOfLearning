{
 "cells": [
  {
   "cell_type": "markdown",
   "id": "dc52fe86",
   "metadata": {},
   "source": [
    "# Simple Neural Network"
   ]
  },
  {
   "cell_type": "markdown",
   "id": "6a4cc183",
   "metadata": {},
   "source": [
    "# Importing Libraries"
   ]
  },
  {
   "cell_type": "code",
   "execution_count": 1,
   "id": "e0cb02a1",
   "metadata": {},
   "outputs": [],
   "source": [
    "import numpy as np\n",
    "import pandas as pd\n",
    "import matplotlib as plt"
   ]
  },
  {
   "cell_type": "code",
   "execution_count": 1,
   "id": "67f928a0",
   "metadata": {},
   "outputs": [],
   "source": [
    "def sigmoid(x) :\n",
    "    return 1/(1+np.exp(-x))"
   ]
  },
  {
   "cell_type": "code",
   "execution_count": 2,
   "id": "38030dd2",
   "metadata": {},
   "outputs": [],
   "source": [
    "def derivativeSigmoid(x) :\n",
    "    return (np.exp(-x))/((1+np.exp(-x))**2)"
   ]
  },
  {
   "cell_type": "code",
   "execution_count": 3,
   "id": "284e0bbc",
   "metadata": {},
   "outputs": [],
   "source": [
    "class Perceptron :\n",
    "    def __init__(self):\n",
    "        self.weights=np.random.rand(3,1)\n",
    "    def forward(self,inputs,expected outputs,its,lrate) :\n",
    "        y=np.dot(inputs,self.weights)\n",
    "        activation=sigmoid(y)\n",
    "        bias=np.random\n",
    "        "
   ]
  },
  {
   "cell_type": "markdown",
   "id": "910dd274",
   "metadata": {},
   "source": [
    "# "
   ]
  }
 ],
 "metadata": {
  "kernelspec": {
   "display_name": "Python 3 (ipykernel)",
   "language": "python",
   "name": "python3"
  },
  "language_info": {
   "codemirror_mode": {
    "name": "ipython",
    "version": 3
   },
   "file_extension": ".py",
   "mimetype": "text/x-python",
   "name": "python",
   "nbconvert_exporter": "python",
   "pygments_lexer": "ipython3",
   "version": "3.9.12"
  }
 },
 "nbformat": 4,
 "nbformat_minor": 5
}
